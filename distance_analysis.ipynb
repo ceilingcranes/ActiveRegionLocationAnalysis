{
 "cells": [
  {
   "cell_type": "code",
   "execution_count": 1,
   "metadata": {
    "ExecuteTime": {
     "end_time": "2018-12-02T01:18:03.805336Z",
     "start_time": "2018-12-02T01:18:01.680161Z"
    }
   },
   "outputs": [],
   "source": [
    "import pandas as pd\n",
    "# from sunpy.coordinates.transformations import hgs_to_hcc\n",
    "# from sunpy.coordinates import frames\n",
    "import sunpy.coordinates\n",
    "from astropy.coordinates import SkyCoord\n",
    "from math import isnan, ceil, floor\n",
    "import numpy as np\n",
    "import astropy.units as u\n",
    "import matplotlib.pylab as plt\n"
   ]
  },
  {
   "cell_type": "code",
   "execution_count": 20,
   "metadata": {
    "ExecuteTime": {
     "end_time": "2018-12-02T03:57:53.207150Z",
     "start_time": "2018-12-02T03:57:50.780520Z"
    }
   },
   "outputs": [
    {
     "data": {
      "text/html": [
       "<div>\n",
       "<style scoped>\n",
       "    .dataframe tbody tr th:only-of-type {\n",
       "        vertical-align: middle;\n",
       "    }\n",
       "\n",
       "    .dataframe tbody tr th {\n",
       "        vertical-align: top;\n",
       "    }\n",
       "\n",
       "    .dataframe thead th {\n",
       "        text-align: right;\n",
       "    }\n",
       "</style>\n",
       "<table border=\"1\" class=\"dataframe\">\n",
       "  <thead>\n",
       "    <tr style=\"text-align: right;\">\n",
       "      <th></th>\n",
       "      <th>Unnamed: 0</th>\n",
       "      <th>HARPNUM</th>\n",
       "      <th>T_REC</th>\n",
       "      <th>NOAA_AR</th>\n",
       "      <th>LAT_FWT</th>\n",
       "      <th>LON_FWT</th>\n",
       "      <th>AREA_ACR</th>\n",
       "      <th>USFLUX</th>\n",
       "      <th>MEANGAM</th>\n",
       "      <th>MEANGBT</th>\n",
       "      <th>...</th>\n",
       "      <th>M_flare_in_24h</th>\n",
       "      <th>any_flare_in_24h</th>\n",
       "      <th>X_flare_in_48h</th>\n",
       "      <th>M_flare_in_48h</th>\n",
       "      <th>any_flare_in_48h</th>\n",
       "      <th>hc_x</th>\n",
       "      <th>hc_y</th>\n",
       "      <th>hc_z</th>\n",
       "      <th>closest_dist</th>\n",
       "      <th>connected_components_mean_thresh</th>\n",
       "    </tr>\n",
       "  </thead>\n",
       "  <tbody>\n",
       "    <tr>\n",
       "      <th>0</th>\n",
       "      <td>0</td>\n",
       "      <td>14</td>\n",
       "      <td>2010-05-05 03:12:00</td>\n",
       "      <td>11070</td>\n",
       "      <td>NaN</td>\n",
       "      <td>NaN</td>\n",
       "      <td>0.00000</td>\n",
       "      <td>2.040540e+18</td>\n",
       "      <td>82.474</td>\n",
       "      <td>38.177</td>\n",
       "      <td>...</td>\n",
       "      <td>0</td>\n",
       "      <td>0</td>\n",
       "      <td>0</td>\n",
       "      <td>0</td>\n",
       "      <td>0</td>\n",
       "      <td>NaN</td>\n",
       "      <td>NaN</td>\n",
       "      <td>NaN</td>\n",
       "      <td>NaN</td>\n",
       "      <td>NaN</td>\n",
       "    </tr>\n",
       "    <tr>\n",
       "      <th>1</th>\n",
       "      <td>1</td>\n",
       "      <td>14</td>\n",
       "      <td>2010-05-05 04:00:00</td>\n",
       "      <td>11070</td>\n",
       "      <td>20.684654</td>\n",
       "      <td>-1.045460</td>\n",
       "      <td>15.91787</td>\n",
       "      <td>3.406072e+20</td>\n",
       "      <td>56.375</td>\n",
       "      <td>119.260</td>\n",
       "      <td>...</td>\n",
       "      <td>0</td>\n",
       "      <td>0</td>\n",
       "      <td>0</td>\n",
       "      <td>0</td>\n",
       "      <td>0</td>\n",
       "      <td>-11872.018458</td>\n",
       "      <td>287843.714077</td>\n",
       "      <td>633037.462958</td>\n",
       "      <td>20.576242</td>\n",
       "      <td>NaN</td>\n",
       "    </tr>\n",
       "    <tr>\n",
       "      <th>2</th>\n",
       "      <td>2</td>\n",
       "      <td>14</td>\n",
       "      <td>2010-05-05 05:00:00</td>\n",
       "      <td>11070</td>\n",
       "      <td>20.507109</td>\n",
       "      <td>-0.913314</td>\n",
       "      <td>25.38142</td>\n",
       "      <td>5.640165e+20</td>\n",
       "      <td>49.561</td>\n",
       "      <td>135.720</td>\n",
       "      <td>...</td>\n",
       "      <td>0</td>\n",
       "      <td>0</td>\n",
       "      <td>0</td>\n",
       "      <td>0</td>\n",
       "      <td>0</td>\n",
       "      <td>-10383.617824</td>\n",
       "      <td>285833.795234</td>\n",
       "      <td>633973.658796</td>\n",
       "      <td>20.416992</td>\n",
       "      <td>1.0</td>\n",
       "    </tr>\n",
       "    <tr>\n",
       "      <th>3</th>\n",
       "      <td>3</td>\n",
       "      <td>14</td>\n",
       "      <td>2010-05-05 06:00:00</td>\n",
       "      <td>11070</td>\n",
       "      <td>20.496035</td>\n",
       "      <td>-0.419703</td>\n",
       "      <td>31.01844</td>\n",
       "      <td>6.893843e+20</td>\n",
       "      <td>46.385</td>\n",
       "      <td>156.766</td>\n",
       "      <td>...</td>\n",
       "      <td>0</td>\n",
       "      <td>0</td>\n",
       "      <td>0</td>\n",
       "      <td>0</td>\n",
       "      <td>0</td>\n",
       "      <td>-4772.177056</td>\n",
       "      <td>285667.229696</td>\n",
       "      <td>634115.792476</td>\n",
       "      <td>20.437609</td>\n",
       "      <td>1.0</td>\n",
       "    </tr>\n",
       "    <tr>\n",
       "      <th>4</th>\n",
       "      <td>4</td>\n",
       "      <td>14</td>\n",
       "      <td>2010-05-05 07:00:00</td>\n",
       "      <td>11070</td>\n",
       "      <td>20.480949</td>\n",
       "      <td>0.125770</td>\n",
       "      <td>31.89329</td>\n",
       "      <td>6.563502e+20</td>\n",
       "      <td>44.189</td>\n",
       "      <td>170.519</td>\n",
       "      <td>...</td>\n",
       "      <td>0</td>\n",
       "      <td>0</td>\n",
       "      <td>0</td>\n",
       "      <td>0</td>\n",
       "      <td>0</td>\n",
       "      <td>1430.203374</td>\n",
       "      <td>285452.974486</td>\n",
       "      <td>634228.611732</td>\n",
       "      <td>20.351355</td>\n",
       "      <td>1.0</td>\n",
       "    </tr>\n",
       "  </tbody>\n",
       "</table>\n",
       "<p>5 rows × 41 columns</p>\n",
       "</div>"
      ],
      "text/plain": [
       "   Unnamed: 0  HARPNUM                T_REC  NOAA_AR    LAT_FWT   LON_FWT  \\\n",
       "0           0       14  2010-05-05 03:12:00    11070        NaN       NaN   \n",
       "1           1       14  2010-05-05 04:00:00    11070  20.684654 -1.045460   \n",
       "2           2       14  2010-05-05 05:00:00    11070  20.507109 -0.913314   \n",
       "3           3       14  2010-05-05 06:00:00    11070  20.496035 -0.419703   \n",
       "4           4       14  2010-05-05 07:00:00    11070  20.480949  0.125770   \n",
       "\n",
       "   AREA_ACR        USFLUX  MEANGAM  MEANGBT                ...                 \\\n",
       "0   0.00000  2.040540e+18   82.474   38.177                ...                  \n",
       "1  15.91787  3.406072e+20   56.375  119.260                ...                  \n",
       "2  25.38142  5.640165e+20   49.561  135.720                ...                  \n",
       "3  31.01844  6.893843e+20   46.385  156.766                ...                  \n",
       "4  31.89329  6.563502e+20   44.189  170.519                ...                  \n",
       "\n",
       "   M_flare_in_24h  any_flare_in_24h  X_flare_in_48h  M_flare_in_48h  \\\n",
       "0               0                 0               0               0   \n",
       "1               0                 0               0               0   \n",
       "2               0                 0               0               0   \n",
       "3               0                 0               0               0   \n",
       "4               0                 0               0               0   \n",
       "\n",
       "   any_flare_in_48h          hc_x           hc_y           hc_z  closest_dist  \\\n",
       "0                 0           NaN            NaN            NaN           NaN   \n",
       "1                 0 -11872.018458  287843.714077  633037.462958     20.576242   \n",
       "2                 0 -10383.617824  285833.795234  633973.658796     20.416992   \n",
       "3                 0  -4772.177056  285667.229696  634115.792476     20.437609   \n",
       "4                 0   1430.203374  285452.974486  634228.611732     20.351355   \n",
       "\n",
       "   connected_components_mean_thresh  \n",
       "0                               NaN  \n",
       "1                               NaN  \n",
       "2                               1.0  \n",
       "3                               1.0  \n",
       "4                               1.0  \n",
       "\n",
       "[5 rows x 41 columns]"
      ]
     },
     "execution_count": 20,
     "metadata": {},
     "output_type": "execute_result"
    }
   ],
   "source": [
    "data = pd.read_csv(\"distance_data.csv\")\n",
    "# print(data.drop(columns = [\n",
    "#                           'Unnamed: 0'], inplace = True))\n",
    "# data.dropna(axis = 0, subset = [\"hc_x\", \"hc_y\", \"hc_z\"], inplace = True)\n",
    "# data.to_csv(\"distance_data.csv\", index=False)\n",
    "data.head()\n",
    "# data.iloc[9999]"
   ]
  },
  {
   "cell_type": "code",
   "execution_count": 28,
   "metadata": {
    "ExecuteTime": {
     "end_time": "2018-11-07T23:14:50.573703Z",
     "start_time": "2018-11-07T23:14:50.547080Z"
    }
   },
   "outputs": [
    {
     "name": "stdout",
     "output_type": "stream",
     "text": [
      "HC X: 693755.2286566767--694199.9995112926\n",
      "HC Y: 496332.19956688327--447951.87804304756\n"
     ]
    }
   ],
   "source": [
    "print(\"HC X: {}-{}\".format(data.loc[:,\"hc_x\"].max(), data.loc[:,\"hc_x\"].min()))\n",
    "print(\"HC Y: {}-{}\".format(data.loc[:,\"hc_y\"].max(), data.loc[:,\"hc_y\"].min()))\n",
    "\n",
    "x_max = int(ceil(data.loc[:,\"hc_x\"].max()))\n",
    "x_min = int(ceil(data.loc[:,\"hc_x\"].min()))\n",
    "y_max = int(ceil(data.loc[:,\"hc_y\"].max()))\n",
    "y_min = int(ceil(data.loc[:,\"hc_y\"].min()))\n",
    "\n"
   ]
  },
  {
   "cell_type": "code",
   "execution_count": 52,
   "metadata": {
    "ExecuteTime": {
     "end_time": "2018-11-07T23:42:35.562795Z",
     "start_time": "2018-11-07T23:42:35.553927Z"
    }
   },
   "outputs": [],
   "source": [
    "step = 100\n",
    "\n",
    "# x_list = np.zeros(int(max(x_max, abs(x_min))/step) * 2 + 1)\n",
    "# y_list = np.zeros(int(max(y_max, abs(y_min))/step) * 2 +1)\n",
    "\n",
    "x_size = int(max(x_max, abs(x_min))/step) * 2 + 1\n",
    "y_size = int(max(y_max, abs(y_min))/step) * 2 + 1\n",
    "\n",
    "data_list = np.zeros((x_size, y_size))\n",
    "\n",
    "for x_val, y_val in zip(data.loc[:10, \"hc_x\"], data.loc[:10, \"hc_y\"]):\n",
    "    xind = int(floor(x_val/step) + x_size/2)\n",
    "    yind = int(floor(y_val/step) + y_size/2)\n",
    "    data_list[xind, yind] += 1\n"
   ]
  },
  {
   "cell_type": "markdown",
   "metadata": {},
   "source": [
    "ADVISOR TALK\n",
    "Networks-style correlation analysis\n",
    "Google spacial statistics - relationships of spacial relations\n",
    "Bachelors thesis can be partial progress in a few different things\n",
    "Good to be working on novel work\n",
    "Ask Varad about astropy \n",
    "Schedule presentation****\n",
    "Final Report D: \n",
    "Written - complete chunk of thesis, don't need to get all in one place\n",
    "Presentation - brainstorming, fun, lighter weight \n",
    "*** Decide in next week - will you have a chunk of stuff done or still be working? BY MONDAY \n",
    "Think about doing both or neither - don't ditch work just to persue more interesting stuff \n",
    "She thinks google is evil lmaoooo\n",
    "Good for grad school\n",
    "See if their are actual papers using location***\n",
    "People get mad when ML models work using data they don't think is important "
   ]
  },
  {
   "cell_type": "code",
   "execution_count": null,
   "metadata": {
    "ExecuteTime": {
     "start_time": "2018-11-08T01:43:38.625Z"
    }
   },
   "outputs": [
    {
     "data": {
      "text/plain": [
       "<matplotlib.image.AxesImage at 0x7ff10be0b7b8>"
      ]
     },
     "execution_count": 60,
     "metadata": {},
     "output_type": "execute_result"
    }
   ],
   "source": [
    "plt.figure(figsize=[20,10])\n",
    "plt.imshow(data_list, cmap='gray')"
   ]
  },
  {
   "cell_type": "code",
   "execution_count": null,
   "metadata": {},
   "outputs": [],
   "source": []
  }
 ],
 "metadata": {
  "kernelspec": {
   "display_name": "Python 3",
   "language": "python",
   "name": "python3"
  },
  "language_info": {
   "codemirror_mode": {
    "name": "ipython",
    "version": 3
   },
   "file_extension": ".py",
   "mimetype": "text/x-python",
   "name": "python",
   "nbconvert_exporter": "python",
   "pygments_lexer": "ipython3",
   "version": "3.6.4"
  }
 },
 "nbformat": 4,
 "nbformat_minor": 2
}
