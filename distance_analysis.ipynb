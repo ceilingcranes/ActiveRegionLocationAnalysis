{
 "cells": [
  {
   "cell_type": "code",
   "execution_count": 55,
   "metadata": {
    "ExecuteTime": {
     "end_time": "2018-11-07T23:43:06.018224Z",
     "start_time": "2018-11-07T23:43:06.012982Z"
    }
   },
   "outputs": [],
   "source": [
    "import pandas as pd\n",
    "# from sunpy.coordinates.transformations import hgs_to_hcc\n",
    "# from sunpy.coordinates import frames\n",
    "import sunpy.coordinates\n",
    "from astropy.coordinates import SkyCoord\n",
    "from math import isnan, ceil, floor\n",
    "import numpy as np\n",
    "import astropy.units as u\n",
    "import matplotlib.pylab as plt\n"
   ]
  },
  {
   "cell_type": "code",
   "execution_count": 13,
   "metadata": {
    "ExecuteTime": {
     "end_time": "2018-11-07T23:06:06.269905Z",
     "start_time": "2018-11-07T23:05:58.653235Z"
    }
   },
   "outputs": [
    {
     "data": {
      "text/html": [
       "<div>\n",
       "<style scoped>\n",
       "    .dataframe tbody tr th:only-of-type {\n",
       "        vertical-align: middle;\n",
       "    }\n",
       "\n",
       "    .dataframe tbody tr th {\n",
       "        vertical-align: top;\n",
       "    }\n",
       "\n",
       "    .dataframe thead th {\n",
       "        text-align: right;\n",
       "    }\n",
       "</style>\n",
       "<table border=\"1\" class=\"dataframe\">\n",
       "  <thead>\n",
       "    <tr style=\"text-align: right;\">\n",
       "      <th></th>\n",
       "      <th>Unnamed: 0</th>\n",
       "      <th>Unnamed: 0.1</th>\n",
       "      <th>Unnamed: 0.1.1</th>\n",
       "      <th>Unnamed: 0.1.1.1</th>\n",
       "      <th>Unnamed: 0.1.1.1.1</th>\n",
       "      <th>Unnamed: 0.1.1.1.1.1</th>\n",
       "      <th>HARPNUM</th>\n",
       "      <th>T_REC</th>\n",
       "      <th>NOAA_AR</th>\n",
       "      <th>LAT_FWT</th>\n",
       "      <th>...</th>\n",
       "      <th>any_flare_in_12h</th>\n",
       "      <th>X_flare_in_24h</th>\n",
       "      <th>M_flare_in_24h</th>\n",
       "      <th>any_flare_in_24h</th>\n",
       "      <th>X_flare_in_48h</th>\n",
       "      <th>M_flare_in_48h</th>\n",
       "      <th>any_flare_in_48h</th>\n",
       "      <th>hc_x</th>\n",
       "      <th>hc_y</th>\n",
       "      <th>hc_z</th>\n",
       "    </tr>\n",
       "  </thead>\n",
       "  <tbody>\n",
       "    <tr>\n",
       "      <th>297580</th>\n",
       "      <td>297580</td>\n",
       "      <td>297580</td>\n",
       "      <td>297580</td>\n",
       "      <td>297580</td>\n",
       "      <td>297580</td>\n",
       "      <td>297580</td>\n",
       "      <td>7262</td>\n",
       "      <td>2018-06-05 17:00:00</td>\n",
       "      <td>12712</td>\n",
       "      <td>15.035259</td>\n",
       "      <td>...</td>\n",
       "      <td>0</td>\n",
       "      <td>0</td>\n",
       "      <td>0</td>\n",
       "      <td>0</td>\n",
       "      <td>0</td>\n",
       "      <td>0</td>\n",
       "      <td>0</td>\n",
       "      <td>669927.326144</td>\n",
       "      <td>180532.481056</td>\n",
       "      <td>48340.242378</td>\n",
       "    </tr>\n",
       "    <tr>\n",
       "      <th>297581</th>\n",
       "      <td>297581</td>\n",
       "      <td>297581</td>\n",
       "      <td>297581</td>\n",
       "      <td>297581</td>\n",
       "      <td>297581</td>\n",
       "      <td>297581</td>\n",
       "      <td>7262</td>\n",
       "      <td>2018-06-05 18:00:00</td>\n",
       "      <td>12712</td>\n",
       "      <td>14.840383</td>\n",
       "      <td>...</td>\n",
       "      <td>0</td>\n",
       "      <td>0</td>\n",
       "      <td>0</td>\n",
       "      <td>0</td>\n",
       "      <td>0</td>\n",
       "      <td>0</td>\n",
       "      <td>0</td>\n",
       "      <td>670470.690960</td>\n",
       "      <td>178244.587569</td>\n",
       "      <td>49287.905514</td>\n",
       "    </tr>\n",
       "    <tr>\n",
       "      <th>297582</th>\n",
       "      <td>297582</td>\n",
       "      <td>297582</td>\n",
       "      <td>297582</td>\n",
       "      <td>297582</td>\n",
       "      <td>297582</td>\n",
       "      <td>297582</td>\n",
       "      <td>7262</td>\n",
       "      <td>2018-06-05 19:00:00</td>\n",
       "      <td>12712</td>\n",
       "      <td>14.665590</td>\n",
       "      <td>...</td>\n",
       "      <td>0</td>\n",
       "      <td>0</td>\n",
       "      <td>0</td>\n",
       "      <td>0</td>\n",
       "      <td>0</td>\n",
       "      <td>0</td>\n",
       "      <td>0</td>\n",
       "      <td>671119.078796</td>\n",
       "      <td>176185.408740</td>\n",
       "      <td>47846.231697</td>\n",
       "    </tr>\n",
       "    <tr>\n",
       "      <th>297583</th>\n",
       "      <td>297583</td>\n",
       "      <td>297583</td>\n",
       "      <td>297583</td>\n",
       "      <td>297583</td>\n",
       "      <td>297583</td>\n",
       "      <td>297583</td>\n",
       "      <td>7262</td>\n",
       "      <td>2018-06-05 20:00:00</td>\n",
       "      <td>12712</td>\n",
       "      <td>14.421501</td>\n",
       "      <td>...</td>\n",
       "      <td>0</td>\n",
       "      <td>0</td>\n",
       "      <td>0</td>\n",
       "      <td>0</td>\n",
       "      <td>0</td>\n",
       "      <td>0</td>\n",
       "      <td>0</td>\n",
       "      <td>671994.865166</td>\n",
       "      <td>173309.547973</td>\n",
       "      <td>46022.601362</td>\n",
       "    </tr>\n",
       "    <tr>\n",
       "      <th>297584</th>\n",
       "      <td>297584</td>\n",
       "      <td>297584</td>\n",
       "      <td>297584</td>\n",
       "      <td>297584</td>\n",
       "      <td>297584</td>\n",
       "      <td>297584</td>\n",
       "      <td>7262</td>\n",
       "      <td>2018-06-05 21:00:00</td>\n",
       "      <td>12712</td>\n",
       "      <td>14.257753</td>\n",
       "      <td>...</td>\n",
       "      <td>0</td>\n",
       "      <td>0</td>\n",
       "      <td>0</td>\n",
       "      <td>0</td>\n",
       "      <td>0</td>\n",
       "      <td>0</td>\n",
       "      <td>0</td>\n",
       "      <td>672718.755549</td>\n",
       "      <td>171373.180780</td>\n",
       "      <td>42568.614097</td>\n",
       "    </tr>\n",
       "  </tbody>\n",
       "</table>\n",
       "<p>5 rows × 44 columns</p>\n",
       "</div>"
      ],
      "text/plain": [
       "        Unnamed: 0  Unnamed: 0.1  Unnamed: 0.1.1  Unnamed: 0.1.1.1  \\\n",
       "297580      297580        297580          297580            297580   \n",
       "297581      297581        297581          297581            297581   \n",
       "297582      297582        297582          297582            297582   \n",
       "297583      297583        297583          297583            297583   \n",
       "297584      297584        297584          297584            297584   \n",
       "\n",
       "        Unnamed: 0.1.1.1.1  Unnamed: 0.1.1.1.1.1  HARPNUM  \\\n",
       "297580              297580                297580     7262   \n",
       "297581              297581                297581     7262   \n",
       "297582              297582                297582     7262   \n",
       "297583              297583                297583     7262   \n",
       "297584              297584                297584     7262   \n",
       "\n",
       "                      T_REC  NOAA_AR    LAT_FWT      ...       \\\n",
       "297580  2018-06-05 17:00:00    12712  15.035259      ...        \n",
       "297581  2018-06-05 18:00:00    12712  14.840383      ...        \n",
       "297582  2018-06-05 19:00:00    12712  14.665590      ...        \n",
       "297583  2018-06-05 20:00:00    12712  14.421501      ...        \n",
       "297584  2018-06-05 21:00:00    12712  14.257753      ...        \n",
       "\n",
       "        any_flare_in_12h  X_flare_in_24h  M_flare_in_24h  any_flare_in_24h  \\\n",
       "297580                 0               0               0                 0   \n",
       "297581                 0               0               0                 0   \n",
       "297582                 0               0               0                 0   \n",
       "297583                 0               0               0                 0   \n",
       "297584                 0               0               0                 0   \n",
       "\n",
       "        X_flare_in_48h  M_flare_in_48h  any_flare_in_48h           hc_x  \\\n",
       "297580               0               0                 0  669927.326144   \n",
       "297581               0               0                 0  670470.690960   \n",
       "297582               0               0                 0  671119.078796   \n",
       "297583               0               0                 0  671994.865166   \n",
       "297584               0               0                 0  672718.755549   \n",
       "\n",
       "                 hc_y          hc_z  \n",
       "297580  180532.481056  48340.242378  \n",
       "297581  178244.587569  49287.905514  \n",
       "297582  176185.408740  47846.231697  \n",
       "297583  173309.547973  46022.601362  \n",
       "297584  171373.180780  42568.614097  \n",
       "\n",
       "[5 rows x 44 columns]"
      ]
     },
     "execution_count": 13,
     "metadata": {},
     "output_type": "execute_result"
    }
   ],
   "source": [
    "data = pd.read_csv(\"modified_data.csv\")\n",
    "data.dropna(axis = 0, subset = [\"hc_x\", \"hc_y\", \"hc_z\"], inplace = True)\n",
    "data.tail()\n",
    "# data.iloc[9999]"
   ]
  },
  {
   "cell_type": "code",
   "execution_count": 28,
   "metadata": {
    "ExecuteTime": {
     "end_time": "2018-11-07T23:14:50.573703Z",
     "start_time": "2018-11-07T23:14:50.547080Z"
    }
   },
   "outputs": [
    {
     "name": "stdout",
     "output_type": "stream",
     "text": [
      "HC X: 693755.2286566767--694199.9995112926\n",
      "HC Y: 496332.19956688327--447951.87804304756\n"
     ]
    }
   ],
   "source": [
    "print(\"HC X: {}-{}\".format(data.loc[:,\"hc_x\"].max(), data.loc[:,\"hc_x\"].min()))\n",
    "print(\"HC Y: {}-{}\".format(data.loc[:,\"hc_y\"].max(), data.loc[:,\"hc_y\"].min()))\n",
    "\n",
    "x_max = int(ceil(data.loc[:,\"hc_x\"].max()))\n",
    "x_min = int(ceil(data.loc[:,\"hc_x\"].min()))\n",
    "y_max = int(ceil(data.loc[:,\"hc_y\"].max()))\n",
    "y_min = int(ceil(data.loc[:,\"hc_y\"].min()))\n",
    "\n"
   ]
  },
  {
   "cell_type": "code",
   "execution_count": 52,
   "metadata": {
    "ExecuteTime": {
     "end_time": "2018-11-07T23:42:35.562795Z",
     "start_time": "2018-11-07T23:42:35.553927Z"
    }
   },
   "outputs": [],
   "source": [
    "step = 100\n",
    "\n",
    "# x_list = np.zeros(int(max(x_max, abs(x_min))/step) * 2 + 1)\n",
    "# y_list = np.zeros(int(max(y_max, abs(y_min))/step) * 2 +1)\n",
    "\n",
    "x_size = int(max(x_max, abs(x_min))/step) * 2 + 1\n",
    "y_size = int(max(y_max, abs(y_min))/step) * 2 + 1\n",
    "\n",
    "data_list = np.zeros((x_size, y_size))\n",
    "\n",
    "\n",
    "for x_val, y_val in zip(data.loc[:10, \"hc_x\"], data.loc[:10, \"hc_y\"]):\n",
    "    xind = int(floor(x_val/step) + x_size/2)\n",
    "    yind = int(floor(y_val/step) + y_size/2)\n",
    "    data_list[xind, yind] += 1\n"
   ]
  },
  {
   "cell_type": "code",
   "execution_count": null,
   "metadata": {
    "ExecuteTime": {
     "start_time": "2018-11-08T01:43:38.625Z"
    }
   },
   "outputs": [
    {
     "data": {
      "text/plain": [
       "<matplotlib.image.AxesImage at 0x7ff10be0b7b8>"
      ]
     },
     "execution_count": 60,
     "metadata": {},
     "output_type": "execute_result"
    }
   ],
   "source": [
    "plt.figure(figsize=[20,10])\n",
    "plt.imshow(data_list, cmap='gray')"
   ]
  },
  {
   "cell_type": "code",
   "execution_count": null,
   "metadata": {},
   "outputs": [],
   "source": []
  }
 ],
 "metadata": {
  "kernelspec": {
   "display_name": "Python 3",
   "language": "python",
   "name": "python3"
  },
  "language_info": {
   "codemirror_mode": {
    "name": "ipython",
    "version": 3
   },
   "file_extension": ".py",
   "mimetype": "text/x-python",
   "name": "python",
   "nbconvert_exporter": "python",
   "pygments_lexer": "ipython3",
   "version": "3.6.4"
  }
 },
 "nbformat": 4,
 "nbformat_minor": 2
}
